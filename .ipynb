{
 "cells": [
  {
   "cell_type": "code",
   "execution_count": 51,
   "metadata": {},
   "outputs": [],
   "source": [
    "arr=[    [3,0,8,0,7,4,0,2,9],\n",
    "         [7,0,0,2,0,0,0,6,0],\n",
    "         [0,6,2,0,9,0,0,0,3],\n",
    "         [0,0,0,4,0,0,5,0,7],\n",
    "         [6,0,4,0,0,0,2,0,1],\n",
    "         [2,0,5,0,0,3,0,0,0],\n",
    "         [5,0,0,0,4,0,9,1,0],\n",
    "         [0,1,0,0,0,8,0,0,4],\n",
    "         [4,2,0,9,1,0,6,0,8]]"
   ]
  },
  {
   "cell_type": "code",
   "execution_count": 52,
   "metadata": {},
   "outputs": [
    {
     "name": "stdout",
     "output_type": "stream",
     "text": [
      "[3, 0, 8, 0, 7, 4, 0, 2, 9]\n",
      "[7, 0, 0, 2, 0, 0, 0, 6, 0]\n",
      "[0, 6, 2, 0, 9, 0, 0, 0, 3]\n",
      "[0, 0, 0, 4, 0, 0, 5, 0, 7]\n",
      "[6, 0, 4, 0, 0, 0, 2, 0, 1]\n",
      "[2, 0, 5, 0, 0, 3, 0, 0, 0]\n",
      "[5, 0, 0, 0, 4, 0, 9, 1, 0]\n",
      "[0, 1, 0, 0, 0, 8, 0, 0, 4]\n",
      "[4, 2, 0, 9, 1, 0, 6, 0, 8]\n"
     ]
    }
   ],
   "source": [
    "for i in range(0,len(arr)):\n",
    "    print(arr[i])"
   ]
  },
  {
   "cell_type": "code",
   "execution_count": 53,
   "metadata": {},
   "outputs": [],
   "source": [
    "def solve(a):\n",
    "    zeroes=[]\n",
    "    for j in range(0,len(a)):\n",
    "        if a[j]==0:\n",
    "            print(a[j])\n",
    "    #print(zeroes)  "
   ]
  },
  {
   "cell_type": "code",
   "execution_count": 54,
   "metadata": {},
   "outputs": [
    {
     "name": "stdout",
     "output_type": "stream",
     "text": [
      "0\n",
      "0\n",
      "0\n",
      "[3, 0, 8, 0, 7, 4, 0, 2, 9]\n"
     ]
    }
   ],
   "source": [
    "solve(arr[0])\n",
    "print(arr[0])"
   ]
  },
  {
   "cell_type": "code",
   "execution_count": null,
   "metadata": {},
   "outputs": [],
   "source": []
  },
  {
   "cell_type": "code",
   "execution_count": null,
   "metadata": {},
   "outputs": [],
   "source": []
  }
 ],
 "metadata": {
  "kernelspec": {
   "display_name": "Python 3",
   "language": "python",
   "name": "python3"
  },
  "language_info": {
   "codemirror_mode": {
    "name": "ipython",
    "version": 3
   },
   "file_extension": ".py",
   "mimetype": "text/x-python",
   "name": "python",
   "nbconvert_exporter": "python",
   "pygments_lexer": "ipython3",
   "version": "3.7.6"
  }
 },
 "nbformat": 4,
 "nbformat_minor": 4
}
